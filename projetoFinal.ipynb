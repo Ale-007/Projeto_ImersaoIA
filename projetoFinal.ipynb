{
  "nbformat": 4,
  "nbformat_minor": 0,
  "metadata": {
    "colab": {
      "provenance": [],
      "authorship_tag": "ABX9TyPG8vSoeWi65UJYR2Y9mn8i",
      "include_colab_link": true
    },
    "kernelspec": {
      "name": "python3",
      "display_name": "Python 3"
    },
    "language_info": {
      "name": "python"
    }
  },
  "cells": [
    {
      "cell_type": "markdown",
      "metadata": {
        "id": "view-in-github",
        "colab_type": "text"
      },
      "source": [
        "<a href=\"https://colab.research.google.com/github/Ale-007/Projeto_ImersaoIA/blob/main/projetoFinal.ipynb\" target=\"_parent\"><img src=\"https://colab.research.google.com/assets/colab-badge.svg\" alt=\"Open In Colab\"/></a>"
      ]
    },
    {
      "cell_type": "markdown",
      "source": [
        "# Produção científica, o desafio no curso de medicina:\n",
        "Durante o curso e a carreira médica, os acadêmicos da área se vem diante de um desafio: Não apenas estar sempre atualizados na últimas evidências científicas dos temas estudados pela nossa ciência, mas também contribuir para a mais recente literatura científica.\n",
        "\n",
        "Como estudantes de medicina, a forma mais acessível de contribuir é a revisão sistemática, que pode posteriormente culminar em uma metanálise. O desafio deste esquema de estudo é o trabalho manual ostentoso da extração dos dados dos estudos esclohidos para a revisão sistemática.\n",
        "\n",
        "Este é um exemplo de uma tentativa de automatizar isto com base no protocolo prima de revisão sistemática.\n",
        "\n",
        "Foi escolhido o tema \"uso de incretinas no tratamento da síndrome metabólica\" para a devida exemplificação."
      ],
      "metadata": {
        "id": "JtdkDCzyO-Rn"
      }
    },
    {
      "cell_type": "markdown",
      "source": [
        "# Configuração geral:"
      ],
      "metadata": {
        "id": "_zMT9HIvQkUS"
      }
    },
    {
      "cell_type": "code",
      "execution_count": null,
      "metadata": {
        "id": "wyfWxBkWJzmZ"
      },
      "outputs": [],
      "source": [
        "!pip install -q -U google-generativeai"
      ]
    },
    {
      "cell_type": "code",
      "source": [
        "from pathlib import Path\n",
        "import hashlib\n",
        "import google.generativeai as genai\n",
        "from google.colab import userdata"
      ],
      "metadata": {
        "id": "nJOBdUj5KQUP"
      },
      "execution_count": null,
      "outputs": []
    },
    {
      "cell_type": "code",
      "source": [
        "api_key = userdata.get('SECRET_KEY')\n",
        "genai.configure(api_key= api_key)"
      ],
      "metadata": {
        "id": "8GMJ7UZ7KW1C"
      },
      "execution_count": null,
      "outputs": []
    },
    {
      "cell_type": "markdown",
      "source": [
        "# Configuração do modelo"
      ],
      "metadata": {
        "id": "zjPE9w3nQotk"
      }
    },
    {
      "cell_type": "code",
      "source": [
        "# Set up do modelo\n",
        "generation_config = {\n",
        "  \"temperature\": 1,\n",
        "  \"top_p\": 0.95,\n",
        "  \"top_k\": 0,\n",
        "  \"max_output_tokens\": 8192,\n",
        "}\n",
        "\n",
        "safety_settings = [\n",
        "  {\n",
        "    \"category\": \"HARM_CATEGORY_HARASSMENT\",\n",
        "    \"threshold\": \"BLOCK_MEDIUM_AND_ABOVE\"\n",
        "  },\n",
        "  {\n",
        "    \"category\": \"HARM_CATEGORY_HATE_SPEECH\",\n",
        "    \"threshold\": \"BLOCK_MEDIUM_AND_ABOVE\"\n",
        "  },\n",
        "  {\n",
        "    \"category\": \"HARM_CATEGORY_SEXUALLY_EXPLICIT\",\n",
        "    \"threshold\": \"BLOCK_MEDIUM_AND_ABOVE\"\n",
        "  },\n",
        "  {\n",
        "    \"category\": \"HARM_CATEGORY_DANGEROUS_CONTENT\",\n",
        "    \"threshold\": \"BLOCK_MEDIUM_AND_ABOVE\"\n",
        "  },\n",
        "]\n",
        "\n",
        "system_instruction = \"Você é um professor universitário de uma faculdade de medicina e está orientando um acadêmico de medicina em uma pesquisa.\"\n",
        "\n",
        "model = genai.GenerativeModel(model_name=\"gemini-1.5-pro-latest\",\n",
        "                              generation_config=generation_config,\n",
        "                              system_instruction=system_instruction,\n",
        "                              safety_settings=safety_settings)\n"
      ],
      "metadata": {
        "id": "3GiKsv4LKzqZ"
      },
      "execution_count": null,
      "outputs": []
    },
    {
      "cell_type": "markdown",
      "source": [
        "# Extração dos arquivos necessários:"
      ],
      "metadata": {
        "id": "88E8krlQQym_"
      }
    },
    {
      "cell_type": "code",
      "source": [
        "from google.colab import drive\n",
        "drive.mount('/content/gdrive')\n",
        "\n",
        "article1_path = \"/content/gdrive/My Drive/RS IA/artigos/artigo1.pdf\"\n",
        "article2_path = \"/content/gdrive/My Drive/RS IA/artigos/artigo2.pdf\"\n",
        "prisma_path = \"/content/gdrive/My Drive/RS IA/prisma.pdf\""
      ],
      "metadata": {
        "colab": {
          "base_uri": "https://localhost:8080/"
        },
        "id": "c2amgrxwLfDA",
        "outputId": "05ab4d73-9cc8-4b54-fea3-5790a744928e"
      },
      "execution_count": null,
      "outputs": [
        {
          "output_type": "stream",
          "name": "stdout",
          "text": [
            "Drive already mounted at /content/gdrive; to attempt to forcibly remount, call drive.mount(\"/content/gdrive\", force_remount=True).\n"
          ]
        }
      ]
    },
    {
      "cell_type": "code",
      "source": [
        "def extract_pdf_pages(pathname: str) -> list[str]:\n",
        "  parts = [f\"--- START OF PDF ${pathname} ---\"]\n",
        "  # Add logic to read the PDF and return a list of pages here.\n",
        "  pages = []\n",
        "  for index, page in enumerate(pages):\n",
        "    parts.append(f\"--- PAGE {index} ---\")\n",
        "    parts.append(page)\n",
        "  return parts"
      ],
      "metadata": {
        "id": "moMz8c5KLLXk"
      },
      "execution_count": null,
      "outputs": []
    },
    {
      "cell_type": "markdown",
      "source": [
        "# Utilização e instruções para o modelo:"
      ],
      "metadata": {
        "id": "k4Sz6br0Q_M3"
      }
    },
    {
      "cell_type": "code",
      "source": [
        "convo = model.start_chat(history=[\n",
        "  {\n",
        "    \"role\": \"user\",\n",
        "    \"parts\": extract_pdf_pages(\"/content/gdrive/My Drive/RS IA/prisma.pdf\")\n",
        "  },\n",
        "  {\n",
        "    \"role\": \"user\",\n",
        "    \"parts\": [\"Faça o desenho de uma revisão sistemática, com base neste protocolo, sobre o uso de incretinas no tratamento da síndrome metabólica.\"]\n",
        "  },\n",
        "  {\n",
        "    \"role\": \"model\",\n",
        "    \"parts\": [\"## Desenho de Revisão Sistemática: Uso de Incretinas no Tratamento da Síndrome Metabólica\\n\\nCom base no protocolo PRISMA 2020 e sua expertise em medicina, podemos desenhar uma revisão sistemática sobre o uso de incretinas no tratamento da síndrome metabólica:\\n\\n**Título:** Efeito das Incretinas no Tratamento da Síndrome Metabólica: Uma Revisão Sistemática e Meta-Análise\\n\\n**Introdução:**\\n\\n* **Justificativa:** A síndrome metabólica é uma condição complexa que aumenta o risco de doenças cardiovasculares e diabetes tipo 2. As incretinas são hormônios que regulam a glicose e demonstram potencial para o tratamento da síndrome metabólica. \\n* **Objetivos:** \\n    * Avaliar a eficácia das incretinas na redução dos componentes da síndrome metabólica (glicemia, pressão arterial, perfil lipídico, circunferência abdominal).\\n    * Comparar os efeitos de diferentes tipos de incretinas (GLP-1 agonistas, inibidores de DPP-4).\\n    * Avaliar a segurança das incretinas no tratamento da síndrome metabólica.\\n\\n**Métodos:**\\n\\n* **Critérios de Elegibilidade:**\\n    * Desenho: Ensaios clínicos randomizados (ECRs)\\n    * Participantes: Adultos com diagnóstico de síndrome metabólica\\n    * Intervenção: Incretinas (GLP-1 agonistas, inibidores de DPP-4) vs placebo ou tratamento padrão\\n    * Desfechos: \\n        * Primários: Mudanças nos componentes da síndrome metabólica (glicemia, pressão arterial, perfil lipídico, circunferência abdominal)\\n        * Secundários: Eventos adversos, qualidade de vida\\n* **Fontes de Informação:**\\n    * Bases de dados: MEDLINE, Embase, Cochrane Central Register of Controlled Trials (CENTRAL)\\n    * Repositórios de registros de ensaios clínicos: ClinicalTrials.gov, International Clinical Trials Registry Platform (ICTRP)\\n    * Busca manual em listas de referências de artigos incluídos\\n* **Estratégia de Busca:** \\n    * Termos relacionados a \\\"síndrome metabólica\\\", \\\"incretinas\\\", \\\"GLP-1 agonistas\\\", \\\"inibidores de DPP-4\\\" e \\\"ensaios clínicos randomizados\\\" serão utilizados.\\n    * As estratégias de busca serão adaptadas para cada base de dados.\\n* **Processo de Seleção:**\\n    * Dois revisores independentes selecionarão os estudos com base nos critérios de elegibilidade.\\n    * Discordâncias serão resolvidas por consenso ou por um terceiro revisor.\\n* **Coleta de Dados:**\\n    * Dois revisores independentes coletarão os dados usando um formulário padronizado.\\n    * As informações coletadas incluirão características do estudo, características dos participantes, intervenções, desfechos e eventos adversos.\\n* **Avaliação do Risco de Viés:**\\n    * A ferramenta Cochrane Risk of Bias 2 será utilizada para avaliar o risco de viés dos ECRs incluídos.\\n* **Medidas de Efeito:**\\n    * Diferença média (DM) ou diferença média padronizada (DMP) para desfechos contínuos.\\n    * Razão de risco (RR) ou odds ratio (OR) para desfechos dicotômicos.\\n* **Métodos de Síntese:**\\n    * Meta-análise será realizada se houver dados suficientes e homogeneidade entre os estudos.\\n    * Modelos de efeitos aleatórios serão utilizados para considerar a heterogeneidade.\\n    * Análises de subgrupo e metarregressão serão realizadas para explorar possíveis causas de heterogeneidade.\\n    * Análises de sensibilidade serão realizadas para avaliar a robustez dos resultados.\\n* **Avaliação da Certeza da Evidência:**\\n    * A abordagem GRADE será utilizada para avaliar a certeza da evidência para cada desfecho.\\n\\n**Resultados:**\\n\\n* **Seleção dos Estudos:** Um fluxograma PRISMA será utilizado para apresentar o processo de seleção dos estudos.\\n* **Características dos Estudos:** As características dos estudos incluídos serão apresentadas em tabelas.\\n* **Risco de Viés nos Estudos:** Os resultados da avaliação do risco de viés serão apresentados em tabelas ou figuras.\\n* **Resultados dos Estudos Individuais:** Os resultados de cada estudo serão apresentados em tabelas ou figuras.\\n* **Resultados das Sínteses:** Os resultados das meta-análises serão apresentados em forest plots, com estimativas resumidas do efeito e intervalos de confiança.\\n* **Vieses de Publicação:** O risco de viés de publicação será avaliado usando testes estatísticos e gráficos de funil.\\n* **Certeza da Evidência:** A certeza da evidência para cada desfecho será apresentada em tabelas GRADE. \\n \\n**Discussão:**\\n\\n* Os resultados serão interpretados no contexto da literatura existente.\\n* As limitações da revisão serão discutidas. \\n* As implicações para a prática clínica e pesquisa futura serão exploradas.\\n\\n**Outras Informações:**\\n\\n* A revisão será registrada em um repositório de protocolos de revisão sistemática (ex.: PROSPERO).\\n* Os dados e o código analítico serão disponibilizados publicamente, se possível.\\n* Os conflitos de interesse dos autores serão declarados.\\n\\n**Conclusão:**\\n\\nEsta revisão sistemática fornecerá evidências sobre a eficácia e segurança das incretinas no tratamento da síndrome metabólica. Os resultados ajudarão médicos e pacientes a tomarem decisões informadas sobre o tratamento.\\n\\n**Observação:** Este é um desenho básico da revisão sistemática. Detalhes específicos da estratégia de busca, métodos de análise e apresentação dos resultados serão definidos durante o processo de revisão.\"]\n",
        "  },\n",
        "  {\n",
        "    \"role\": \"user\",\n",
        "    \"parts\": [\"Agora, extraia os dados estaticamente relevantes dos seguintes estudos. Para essa definição de estaticamente relevante, use as orientações baseadas no protocolo prisma que você tinha criado previamente.  \"]\n",
        "  },\n",
        "  {\n",
        "    \"role\": \"user\",\n",
        "    \"parts\": extract_pdf_pages(\"/content/gdrive/My Drive/RS IA/artigos/artigo1.pdf\")\n",
        "  },\n",
        "  {\n",
        "    \"role\": \"user\",\n",
        "    \"parts\": extract_pdf_pages(\"/content/gdrive/My Drive/RS IA/artigos/artigo2.pdf\" )\n",
        "  },\n",
        "  {\n",
        "    \"role\": \"model\",\n",
        "    \"parts\": [\"## Dados Relevantes dos Artigos para Revisão Sistemática sobre Incretinas e Síndrome Metabólica\\n\\n**Artigo 1:** Combination of exercise and GLP-1 receptor agonist treatment reduces severity of metabolic syndrome, abdominal obesity, and inflammation: a randomized controlled trial (Sandsdal et al., 2023)\\n\\n**Dados Relevantes:**\\n\\n* **Desenho do estudo:** Ensaio clínico randomizado, duplo-cego, controlado por placebo.\\n* **Participantes:** 195 adultos com obesidade e sem diabetes (per-protocolo: 130).\\n* **Intervenções:**\\n    * Placebo + atividade habitual\\n    * Exercício moderado a vigoroso (mínimo de 150 min/semana de intensidade moderada ou 75 min/semana de atividade física aeróbica de intensidade vigorosa) + placebo\\n    * Liraglutida 3.0 mg/dia + atividade habitual\\n    * Exercício + Liraglutida 3.0 mg/dia \\n* **Duração:** 1 ano após 8 semanas de dieta hipocalórica (800 kcal/dia).\\n* **Desfechos:**\\n    * **Primário:** Mudança no peso corporal (reportado em outro artigo).\\n    * **Secundários:** \\n        * Escore Z de severidade da síndrome metabólica (MetS-Z)\\n        * Percentual de gordura abdominal (estimado como gordura androide por absorciometria de raios X de dupla energia - DXA)\\n        * Proteína C reativa de alta sensibilidade (hsCRP)\\n* **Resultados:**\\n    * MetS-Z:\\n        * Redução significativa no MetS-Z após a dieta hipocalórica em todos os grupos.\\n        * Liraglutida e combinação (exercício + liraglutida) reduziram significativamente o MetS-Z em comparação ao placebo após 1 ano.\\n    * Gordura Abdominal:\\n        * Redução significativa na porcentagem de gordura abdominal após a dieta hipocalórica em todos os grupos.\\n        * Exercício, liraglutida e combinação reduziram significativamente a porcentagem de gordura abdominal em comparação ao placebo após 1 ano. A combinação teve o maior efeito.\\n    * hsCRP:\\n        * Redução significativa na hsCRP após a dieta hipocalórica em todos os grupos.\\n        * Apenas a combinação reduziu significativamente a hsCRP em comparação ao placebo após 1 ano.\\n* **Eventos Adversos:** Eventos gastrointestinais foram mais comuns nos grupos que receberam liraglutida.\\n\\n**Artigo 2:** Glucagon-Like Peptide-1 Receptor Agonists and Dual Glucose-Dependent Insulinotropic Polypeptide/Glucagon-Like Peptide-1 Receptor Agonists in the Treatment of Obesity/Metabolic Syndrome, Prediabetes/Diabetes and Non-Alcoholic Fatty Liver Disease—Current Evidence (Muzurović et al., 2022)\\n\\n**Dados Relevantes:**\\n\\n* **Tipo de estudo:** Revisão narrativa.\\n* **Foco:** Eficácia e segurança de agonistas do receptor GLP-1 e agonistas duplos do receptor GIP/GLP-1 no tratamento da obesidade, síndrome metabólica, pré-diabetes, diabetes tipo 2 e doença hepática gordurosa não alcoólica.\\n* **Resultados:**\\n    * Agonistas do receptor GLP-1 (exenatida, liraglutida, semaglutida) demonstraram perda de peso significativa em comparação ao placebo em indivíduos com obesidade, com ou sem diabetes.\\n    * Tirzepatida, um agonista duplo do receptor GIP/GLP-1, demonstrou perda de peso superior à semaglutida em indivíduos com obesidade sem diabetes.\\n    * GLP-1 RAs melhoraram os componentes da síndrome metabólica, incluindo dislipidemia e hipertensão.\\n    * GLP-1 RAs demonstraram benefícios no tratamento da doença hepática gordurosa não alcoólica, principalmente através da redução do peso corporal e do conteúdo de gordura hepática.\\n    * Tirzepatida também demonstrou benefícios preliminares no tratamento da doença hepática gordurosa não alcoólica.\\n    * Estudos de resultados cardiovasculares demonstraram que os GLP-1 RAs reduzem o risco de eventos cardiovasculares maiores em pacientes com diabetes tipo 2.\\n    * Um estudo de resultados cardiovasculares com tirzepatida está em andamento.\\n* **Conclusões:**\\n    * GLP-1 RAs e tirzepatida são classes de medicamentos promissoras para o tratamento da obesidade, síndrome metabólica e doença hepática gordurosa não alcoólica.\\n    * GLP-1 RAs têm benefícios cardiovasculares comprovados em pacientes com diabetes tipo 2.\\n\\n**Observação:** O artigo 2, sendo uma revisão narrativa, não fornece dados numéricos específicos de ensaios clínicos individuais. A extração de dados estatísticos relevantes foca nos resultados gerais e nas conclusões da revisão.\\n\\n## Próximos Passos\\n\\nApós extrair os dados relevantes, os próximos passos da revisão sistemática incluem:\\n\\n* **Avaliar o risco de viés:** Utilizar a ferramenta Cochrane Risk of Bias 2 para avaliar o risco de viés dos ECRs incluídos.\\n* **Realizar metanálise:** Se houver dados suficientes e homogeneidade entre os estudos, realizar metanálise para obter estimativas resumidas do efeito das incretinas nos desfechos de interesse.\\n* **Sintetizar os resultados:** Apresentar os resultados da revisão sistemática de forma clara e concisa, incluindo tabelas, figuras e texto descritivo.\\n* **Discutir as implicações:** Interpretar os resultados da revisão sistemática no contexto da literatura existente, discutir as limitações da revisão e explorar as implicações para a prática clínica e pesquisa futura.\"]\n",
        "  },\n",
        "])\n"
      ],
      "metadata": {
        "id": "eUDc5msKMSg4"
      },
      "execution_count": null,
      "outputs": []
    },
    {
      "cell_type": "markdown",
      "source": [
        "# Criação de uma tabela com os dados"
      ],
      "metadata": {
        "id": "IRpgFinPRO1b"
      }
    },
    {
      "cell_type": "code",
      "source": [
        "convo.send_message(\"Agora transforme estes dados em uma tabela\")\n",
        "print(convo.last.text)"
      ],
      "metadata": {
        "colab": {
          "base_uri": "https://localhost:8080/",
          "height": 193
        },
        "id": "4u4rD7caMyD9",
        "outputId": "fe0fbab7-3b30-483e-96e8-960e9b0dfc98"
      },
      "execution_count": null,
      "outputs": [
        {
          "output_type": "stream",
          "name": "stdout",
          "text": [
            "## Dados Relevantes de Estudos sobre Incretinas e Síndrome Metabólica\n",
            "\n",
            "| Estudo | Desenho | Participantes | Intervenções | Desfechos | Resultados |\n",
            "|---|---|---|---|---|---|\n",
            "| Sandsdal et al. (2023) | ECR, duplo-cego, controlado por placebo | 195 adultos com obesidade e sem diabetes | - Placebo + atividade habitual<br>- Exercício + placebo<br>- Liraglutida 3.0 mg/dia + atividade habitual<br>- Exercício + Liraglutida 3.0 mg/dia | - Escore Z de severidade da síndrome metabólica (MetS-Z)<br>- Percentual de gordura abdominal<br>- Proteína C reativa de alta sensibilidade (hsCRP) | - Liraglutida e combinação (exercício + liraglutida) reduziram significativamente o MetS-Z em comparação ao placebo após 1 ano.<br>- Exercício, liraglutida e combinação reduziram significativamente a porcentagem de gordura abdominal em comparação ao placebo após 1 ano. A combinação teve o maior efeito.<br>- Apenas a combinação reduziu significativamente a hsCRP em comparação ao placebo após 1 ano. |\n",
            "| Muzurović et al. (2022) | Revisão Narrativa | - | Agonistas do receptor GLP-1 (exenatida, liraglutida, semaglutida) e agonistas duplos do receptor GIP/GLP-1 (tirzepatida) | - Perda de peso<br>- Melhora nos componentes da síndrome metabólica<br>- Benefícios no tratamento da doença hepática gordurosa não alcoólica<br>- Redução do risco de eventos cardiovasculares maiores | - GLP-1 RAs demonstraram perda de peso significativa em comparação ao placebo em indivíduos com obesidade, com ou sem diabetes.<br>- Tirzepatida demonstrou perda de peso superior à semaglutida em indivíduos com obesidade sem diabetes.<br>- GLP-1 RAs melhoraram os componentes da síndrome metabólica, incluindo dislipidemia e hipertensão.<br>- GLP-1 RAs e tirzepatida demonstraram benefícios no tratamento da doença hepática gordurosa não alcoólica.<br>- GLP-1 RAs reduzem o risco de eventos cardiovasculares maiores em pacientes com diabetes tipo 2. |\n",
            "\n",
            "**Observação:** Esta tabela apresenta os dados estatisticamente relevantes extraídos dos dois artigos, com foco nos elementos definidos no protocolo PRISMA. O artigo de revisão narrativa não apresenta dados numéricos específicos, portanto a tabela reflete as conclusões gerais sobre a efetividade das incretinas. \n",
            "\n"
          ]
        }
      ]
    },
    {
      "cell_type": "markdown",
      "source": [
        "# Exibição \"clean\" do display dos resultados"
      ],
      "metadata": {
        "id": "fuT_bN_IRGut"
      }
    },
    {
      "cell_type": "code",
      "source": [
        "#Melhorando a visualização\n",
        "#Código disponível em https://ai.google.dev/tutorials/python_quickstart#import_packages\n",
        "import textwrap\n",
        "from IPython.display import display\n",
        "from IPython.display import Markdown\n",
        "\n",
        "def to_markdown(text):\n",
        "  text = text.replace('•', '  *')\n",
        "  return Markdown(textwrap.indent(text, '> ', predicate=lambda _: True))\n",
        "\n",
        "#Imprimindo o histórico\n",
        "for message in convo.history:\n",
        "  display(to_markdown(f'**{message.role}**: {message.parts[0].text}'))\n",
        "  print('-------------------------------------------')"
      ],
      "metadata": {
        "colab": {
          "base_uri": "https://localhost:8080/",
          "height": 1000
        },
        "id": "Yp2Fzf0YOMbM",
        "outputId": "6b05af6a-2162-40d9-9a9d-5682dca1c2d8"
      },
      "execution_count": null,
      "outputs": [
        {
          "output_type": "display_data",
          "data": {
            "text/plain": [
              "<IPython.core.display.Markdown object>"
            ],
            "text/markdown": "> **user**: --- START OF PDF $/content/gdrive/My Drive/RS IA/prisma.pdf ---"
          },
          "metadata": {}
        },
        {
          "output_type": "stream",
          "name": "stdout",
          "text": [
            "-------------------------------------------\n"
          ]
        },
        {
          "output_type": "display_data",
          "data": {
            "text/plain": [
              "<IPython.core.display.Markdown object>"
            ],
            "text/markdown": "> **user**: Faça o desenho de uma revisão sistemática, com base neste protocolo, sobre o uso de incretinas no tratamento da síndrome metabólica."
          },
          "metadata": {}
        },
        {
          "output_type": "stream",
          "name": "stdout",
          "text": [
            "-------------------------------------------\n"
          ]
        },
        {
          "output_type": "display_data",
          "data": {
            "text/plain": [
              "<IPython.core.display.Markdown object>"
            ],
            "text/markdown": "> **model**: ## Desenho de Revisão Sistemática: Uso de Incretinas no Tratamento da Síndrome Metabólica\n> \n> Com base no protocolo PRISMA 2020 e sua expertise em medicina, podemos desenhar uma revisão sistemática sobre o uso de incretinas no tratamento da síndrome metabólica:\n> \n> **Título:** Efeito das Incretinas no Tratamento da Síndrome Metabólica: Uma Revisão Sistemática e Meta-Análise\n> \n> **Introdução:**\n> \n> * **Justificativa:** A síndrome metabólica é uma condição complexa que aumenta o risco de doenças cardiovasculares e diabetes tipo 2. As incretinas são hormônios que regulam a glicose e demonstram potencial para o tratamento da síndrome metabólica. \n> * **Objetivos:** \n>     * Avaliar a eficácia das incretinas na redução dos componentes da síndrome metabólica (glicemia, pressão arterial, perfil lipídico, circunferência abdominal).\n>     * Comparar os efeitos de diferentes tipos de incretinas (GLP-1 agonistas, inibidores de DPP-4).\n>     * Avaliar a segurança das incretinas no tratamento da síndrome metabólica.\n> \n> **Métodos:**\n> \n> * **Critérios de Elegibilidade:**\n>     * Desenho: Ensaios clínicos randomizados (ECRs)\n>     * Participantes: Adultos com diagnóstico de síndrome metabólica\n>     * Intervenção: Incretinas (GLP-1 agonistas, inibidores de DPP-4) vs placebo ou tratamento padrão\n>     * Desfechos: \n>         * Primários: Mudanças nos componentes da síndrome metabólica (glicemia, pressão arterial, perfil lipídico, circunferência abdominal)\n>         * Secundários: Eventos adversos, qualidade de vida\n> * **Fontes de Informação:**\n>     * Bases de dados: MEDLINE, Embase, Cochrane Central Register of Controlled Trials (CENTRAL)\n>     * Repositórios de registros de ensaios clínicos: ClinicalTrials.gov, International Clinical Trials Registry Platform (ICTRP)\n>     * Busca manual em listas de referências de artigos incluídos\n> * **Estratégia de Busca:** \n>     * Termos relacionados a \"síndrome metabólica\", \"incretinas\", \"GLP-1 agonistas\", \"inibidores de DPP-4\" e \"ensaios clínicos randomizados\" serão utilizados.\n>     * As estratégias de busca serão adaptadas para cada base de dados.\n> * **Processo de Seleção:**\n>     * Dois revisores independentes selecionarão os estudos com base nos critérios de elegibilidade.\n>     * Discordâncias serão resolvidas por consenso ou por um terceiro revisor.\n> * **Coleta de Dados:**\n>     * Dois revisores independentes coletarão os dados usando um formulário padronizado.\n>     * As informações coletadas incluirão características do estudo, características dos participantes, intervenções, desfechos e eventos adversos.\n> * **Avaliação do Risco de Viés:**\n>     * A ferramenta Cochrane Risk of Bias 2 será utilizada para avaliar o risco de viés dos ECRs incluídos.\n> * **Medidas de Efeito:**\n>     * Diferença média (DM) ou diferença média padronizada (DMP) para desfechos contínuos.\n>     * Razão de risco (RR) ou odds ratio (OR) para desfechos dicotômicos.\n> * **Métodos de Síntese:**\n>     * Meta-análise será realizada se houver dados suficientes e homogeneidade entre os estudos.\n>     * Modelos de efeitos aleatórios serão utilizados para considerar a heterogeneidade.\n>     * Análises de subgrupo e metarregressão serão realizadas para explorar possíveis causas de heterogeneidade.\n>     * Análises de sensibilidade serão realizadas para avaliar a robustez dos resultados.\n> * **Avaliação da Certeza da Evidência:**\n>     * A abordagem GRADE será utilizada para avaliar a certeza da evidência para cada desfecho.\n> \n> **Resultados:**\n> \n> * **Seleção dos Estudos:** Um fluxograma PRISMA será utilizado para apresentar o processo de seleção dos estudos.\n> * **Características dos Estudos:** As características dos estudos incluídos serão apresentadas em tabelas.\n> * **Risco de Viés nos Estudos:** Os resultados da avaliação do risco de viés serão apresentados em tabelas ou figuras.\n> * **Resultados dos Estudos Individuais:** Os resultados de cada estudo serão apresentados em tabelas ou figuras.\n> * **Resultados das Sínteses:** Os resultados das meta-análises serão apresentados em forest plots, com estimativas resumidas do efeito e intervalos de confiança.\n> * **Vieses de Publicação:** O risco de viés de publicação será avaliado usando testes estatísticos e gráficos de funil.\n> * **Certeza da Evidência:** A certeza da evidência para cada desfecho será apresentada em tabelas GRADE. \n>  \n> **Discussão:**\n> \n> * Os resultados serão interpretados no contexto da literatura existente.\n> * As limitações da revisão serão discutidas. \n> * As implicações para a prática clínica e pesquisa futura serão exploradas.\n> \n> **Outras Informações:**\n> \n> * A revisão será registrada em um repositório de protocolos de revisão sistemática (ex.: PROSPERO).\n> * Os dados e o código analítico serão disponibilizados publicamente, se possível.\n> * Os conflitos de interesse dos autores serão declarados.\n> \n> **Conclusão:**\n> \n> Esta revisão sistemática fornecerá evidências sobre a eficácia e segurança das incretinas no tratamento da síndrome metabólica. Os resultados ajudarão médicos e pacientes a tomarem decisões informadas sobre o tratamento.\n> \n> **Observação:** Este é um desenho básico da revisão sistemática. Detalhes específicos da estratégia de busca, métodos de análise e apresentação dos resultados serão definidos durante o processo de revisão."
          },
          "metadata": {}
        },
        {
          "output_type": "stream",
          "name": "stdout",
          "text": [
            "-------------------------------------------\n"
          ]
        },
        {
          "output_type": "display_data",
          "data": {
            "text/plain": [
              "<IPython.core.display.Markdown object>"
            ],
            "text/markdown": "> **user**: Agora, extraia os dados estaticamente relevantes dos seguintes estudos. Para essa definição de estaticamente relevante, use as orientações baseadas no protocolo prisma que você tinha criado previamente.  "
          },
          "metadata": {}
        },
        {
          "output_type": "stream",
          "name": "stdout",
          "text": [
            "-------------------------------------------\n"
          ]
        },
        {
          "output_type": "display_data",
          "data": {
            "text/plain": [
              "<IPython.core.display.Markdown object>"
            ],
            "text/markdown": "> **user**: --- START OF PDF $/content/gdrive/My Drive/RS IA/artigos/artigo1.pdf ---"
          },
          "metadata": {}
        },
        {
          "output_type": "stream",
          "name": "stdout",
          "text": [
            "-------------------------------------------\n"
          ]
        },
        {
          "output_type": "display_data",
          "data": {
            "text/plain": [
              "<IPython.core.display.Markdown object>"
            ],
            "text/markdown": "> **user**: --- START OF PDF $/content/gdrive/My Drive/RS IA/artigos/artigo2.pdf ---"
          },
          "metadata": {}
        },
        {
          "output_type": "stream",
          "name": "stdout",
          "text": [
            "-------------------------------------------\n"
          ]
        },
        {
          "output_type": "display_data",
          "data": {
            "text/plain": [
              "<IPython.core.display.Markdown object>"
            ],
            "text/markdown": "> **model**: ## Dados Relevantes dos Artigos para Revisão Sistemática sobre Incretinas e Síndrome Metabólica\n> \n> **Artigo 1:** Combination of exercise and GLP-1 receptor agonist treatment reduces severity of metabolic syndrome, abdominal obesity, and inflammation: a randomized controlled trial (Sandsdal et al., 2023)\n> \n> **Dados Relevantes:**\n> \n> * **Desenho do estudo:** Ensaio clínico randomizado, duplo-cego, controlado por placebo.\n> * **Participantes:** 195 adultos com obesidade e sem diabetes (per-protocolo: 130).\n> * **Intervenções:**\n>     * Placebo + atividade habitual\n>     * Exercício moderado a vigoroso (mínimo de 150 min/semana de intensidade moderada ou 75 min/semana de atividade física aeróbica de intensidade vigorosa) + placebo\n>     * Liraglutida 3.0 mg/dia + atividade habitual\n>     * Exercício + Liraglutida 3.0 mg/dia \n> * **Duração:** 1 ano após 8 semanas de dieta hipocalórica (800 kcal/dia).\n> * **Desfechos:**\n>     * **Primário:** Mudança no peso corporal (reportado em outro artigo).\n>     * **Secundários:** \n>         * Escore Z de severidade da síndrome metabólica (MetS-Z)\n>         * Percentual de gordura abdominal (estimado como gordura androide por absorciometria de raios X de dupla energia - DXA)\n>         * Proteína C reativa de alta sensibilidade (hsCRP)\n> * **Resultados:**\n>     * MetS-Z:\n>         * Redução significativa no MetS-Z após a dieta hipocalórica em todos os grupos.\n>         * Liraglutida e combinação (exercício + liraglutida) reduziram significativamente o MetS-Z em comparação ao placebo após 1 ano.\n>     * Gordura Abdominal:\n>         * Redução significativa na porcentagem de gordura abdominal após a dieta hipocalórica em todos os grupos.\n>         * Exercício, liraglutida e combinação reduziram significativamente a porcentagem de gordura abdominal em comparação ao placebo após 1 ano. A combinação teve o maior efeito.\n>     * hsCRP:\n>         * Redução significativa na hsCRP após a dieta hipocalórica em todos os grupos.\n>         * Apenas a combinação reduziu significativamente a hsCRP em comparação ao placebo após 1 ano.\n> * **Eventos Adversos:** Eventos gastrointestinais foram mais comuns nos grupos que receberam liraglutida.\n> \n> **Artigo 2:** Glucagon-Like Peptide-1 Receptor Agonists and Dual Glucose-Dependent Insulinotropic Polypeptide/Glucagon-Like Peptide-1 Receptor Agonists in the Treatment of Obesity/Metabolic Syndrome, Prediabetes/Diabetes and Non-Alcoholic Fatty Liver Disease—Current Evidence (Muzurović et al., 2022)\n> \n> **Dados Relevantes:**\n> \n> * **Tipo de estudo:** Revisão narrativa.\n> * **Foco:** Eficácia e segurança de agonistas do receptor GLP-1 e agonistas duplos do receptor GIP/GLP-1 no tratamento da obesidade, síndrome metabólica, pré-diabetes, diabetes tipo 2 e doença hepática gordurosa não alcoólica.\n> * **Resultados:**\n>     * Agonistas do receptor GLP-1 (exenatida, liraglutida, semaglutida) demonstraram perda de peso significativa em comparação ao placebo em indivíduos com obesidade, com ou sem diabetes.\n>     * Tirzepatida, um agonista duplo do receptor GIP/GLP-1, demonstrou perda de peso superior à semaglutida em indivíduos com obesidade sem diabetes.\n>     * GLP-1 RAs melhoraram os componentes da síndrome metabólica, incluindo dislipidemia e hipertensão.\n>     * GLP-1 RAs demonstraram benefícios no tratamento da doença hepática gordurosa não alcoólica, principalmente através da redução do peso corporal e do conteúdo de gordura hepática.\n>     * Tirzepatida também demonstrou benefícios preliminares no tratamento da doença hepática gordurosa não alcoólica.\n>     * Estudos de resultados cardiovasculares demonstraram que os GLP-1 RAs reduzem o risco de eventos cardiovasculares maiores em pacientes com diabetes tipo 2.\n>     * Um estudo de resultados cardiovasculares com tirzepatida está em andamento.\n> * **Conclusões:**\n>     * GLP-1 RAs e tirzepatida são classes de medicamentos promissoras para o tratamento da obesidade, síndrome metabólica e doença hepática gordurosa não alcoólica.\n>     * GLP-1 RAs têm benefícios cardiovasculares comprovados em pacientes com diabetes tipo 2.\n> \n> **Observação:** O artigo 2, sendo uma revisão narrativa, não fornece dados numéricos específicos de ensaios clínicos individuais. A extração de dados estatísticos relevantes foca nos resultados gerais e nas conclusões da revisão.\n> \n> ## Próximos Passos\n> \n> Após extrair os dados relevantes, os próximos passos da revisão sistemática incluem:\n> \n> * **Avaliar o risco de viés:** Utilizar a ferramenta Cochrane Risk of Bias 2 para avaliar o risco de viés dos ECRs incluídos.\n> * **Realizar metanálise:** Se houver dados suficientes e homogeneidade entre os estudos, realizar metanálise para obter estimativas resumidas do efeito das incretinas nos desfechos de interesse.\n> * **Sintetizar os resultados:** Apresentar os resultados da revisão sistemática de forma clara e concisa, incluindo tabelas, figuras e texto descritivo.\n> * **Discutir as implicações:** Interpretar os resultados da revisão sistemática no contexto da literatura existente, discutir as limitações da revisão e explorar as implicações para a prática clínica e pesquisa futura."
          },
          "metadata": {}
        },
        {
          "output_type": "stream",
          "name": "stdout",
          "text": [
            "-------------------------------------------\n"
          ]
        },
        {
          "output_type": "display_data",
          "data": {
            "text/plain": [
              "<IPython.core.display.Markdown object>"
            ],
            "text/markdown": "> **user**: Agora transforme estes dados em uma tabela"
          },
          "metadata": {}
        },
        {
          "output_type": "stream",
          "name": "stdout",
          "text": [
            "-------------------------------------------\n"
          ]
        },
        {
          "output_type": "display_data",
          "data": {
            "text/plain": [
              "<IPython.core.display.Markdown object>"
            ],
            "text/markdown": "> **model**: ## Dados Relevantes de Estudos sobre Incretinas e Síndrome Metabólica\n> \n> | Estudo | Desenho | Participantes | Intervenções | Desfechos | Resultados |\n> |---|---|---|---|---|---|\n> | Sandsdal et al. (2023) | ECR, duplo-cego, controlado por placebo | 195 adultos com obesidade e sem diabetes | - Placebo + atividade habitual<br>- Exercício + placebo<br>- Liraglutida 3.0 mg/dia + atividade habitual<br>- Exercício + Liraglutida 3.0 mg/dia | - Escore Z de severidade da síndrome metabólica (MetS-Z)<br>- Percentual de gordura abdominal<br>- Proteína C reativa de alta sensibilidade (hsCRP) | - Liraglutida e combinação (exercício + liraglutida) reduziram significativamente o MetS-Z em comparação ao placebo após 1 ano.<br>- Exercício, liraglutida e combinação reduziram significativamente a porcentagem de gordura abdominal em comparação ao placebo após 1 ano. A combinação teve o maior efeito.<br>- Apenas a combinação reduziu significativamente a hsCRP em comparação ao placebo após 1 ano. |\n> | Muzurović et al. (2022) | Revisão Narrativa | - | Agonistas do receptor GLP-1 (exenatida, liraglutida, semaglutida) e agonistas duplos do receptor GIP/GLP-1 (tirzepatida) | - Perda de peso<br>- Melhora nos componentes da síndrome metabólica<br>- Benefícios no tratamento da doença hepática gordurosa não alcoólica<br>- Redução do risco de eventos cardiovasculares maiores | - GLP-1 RAs demonstraram perda de peso significativa em comparação ao placebo em indivíduos com obesidade, com ou sem diabetes.<br>- Tirzepatida demonstrou perda de peso superior à semaglutida em indivíduos com obesidade sem diabetes.<br>- GLP-1 RAs melhoraram os componentes da síndrome metabólica, incluindo dislipidemia e hipertensão.<br>- GLP-1 RAs e tirzepatida demonstraram benefícios no tratamento da doença hepática gordurosa não alcoólica.<br>- GLP-1 RAs reduzem o risco de eventos cardiovasculares maiores em pacientes com diabetes tipo 2. |\n> \n> **Observação:** Esta tabela apresenta os dados estatisticamente relevantes extraídos dos dois artigos, com foco nos elementos definidos no protocolo PRISMA. O artigo de revisão narrativa não apresenta dados numéricos específicos, portanto a tabela reflete as conclusões gerais sobre a efetividade das incretinas. \n"
          },
          "metadata": {}
        },
        {
          "output_type": "stream",
          "name": "stdout",
          "text": [
            "-------------------------------------------\n"
          ]
        }
      ]
    },
    {
      "cell_type": "markdown",
      "source": [
        "# Observações:\n",
        "Em uma utilização completa deste modelo teriamos mais artigos científicos e mais dados. Por isto o resumo em forma de tabela foi criado, pois posteriormente, isto poderia facilitar uma possível metanálise com a biblioteca pandas, gerando um resultado completo."
      ],
      "metadata": {
        "id": "lPovPM1XRV-s"
      }
    }
  ]
}